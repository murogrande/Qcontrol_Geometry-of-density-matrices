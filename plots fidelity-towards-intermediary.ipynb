{
 "cells": [
  {
   "attachments": {},
   "cell_type": "markdown",
   "id": "c082a7af",
   "metadata": {},
   "source": [
    "### tests :\n",
    "\n",
    "We would like to know why the algorithm calculates a lot of states near the intermediary states. \n",
    "\n",
    "Ideas: \n",
    "   - plot the fidelity towards the intermediary state. We will have 3 plots in the case where we have \n",
    "    3 intermediary states.\n",
    "    \n",
    "   - plot $\\lambda$ vs time\n",
    "\n",
    "In this notebook, we are searching a usecase for intermediary states. This mean that we would like to find a trajectory with intermediary states that follows the geodesic in a better way than a continuos trajectory\n",
    "\n",
    "## Setup 3 with Python code\n",
    "\n",
    "Without and with intermediary states.\n",
    "At the end, one will find the plots comparing both results."
   ]
  },
  {
   "cell_type": "code",
   "execution_count": 1,
   "id": "e3e9e38e",
   "metadata": {},
   "outputs": [
    {
     "name": "stdout",
     "output_type": "stream",
     "text": [
      "Control activated and ready to use\n"
     ]
    }
   ],
   "source": [
    "# libraries\n",
    "import numpy as np\n",
    "import matplotlib as mpl\n",
    "from matplotlib import cm\n",
    "#from sympy.solvers import solve\n",
    "#from sympy import Symbol\n",
    "#\n",
    "#from scipy.optimize import minimize\n",
    "#from scipy.integrate import solve_ivp\n",
    "\n",
    "import matplotlib.pyplot as plt\n",
    "from matplotlib.pyplot import figure\n",
    "\n",
    "import qutip\n",
    "\n",
    "#import mayavi\n",
    "\n",
    "from contrlWithGeodesics import geodesic\n",
    "\n",
    "from contrlWithGeodesics import fidelity\n",
    "from contrlWithGeodesics.pauli_mat_vec import *\n",
    "from contrlWithGeodesics.utils import delete_less_than_k\n",
    "from contrlWithGeodesics.controlSetup3 import control1setup3\n",
    "from contrlWithGeodesics.getTimeFidelity import get_time_fidelity\n",
    "#"
   ]
  },
  {
   "cell_type": "code",
   "execution_count": 2,
   "id": "c7162058",
   "metadata": {},
   "outputs": [],
   "source": [
    "## this cell is to have nice plots\n",
    "SMALL_SIZE = 8\n",
    "MEDIUM_SIZE = 10\n",
    "BIGGER_SIZE = 12\n",
    "\n",
    "plt.rc('font', size=SMALL_SIZE)          # controls default text sizes\n",
    "plt.rc('axes', titlesize=MEDIUM_SIZE)     # fontsize of the axes title\n",
    "plt.rc('axes', labelsize=MEDIUM_SIZE)    # fontsize of the x and y labels\n",
    "plt.rc('xtick', labelsize=MEDIUM_SIZE)    # fontsize of the tick labels\n",
    "plt.rc('ytick', labelsize=MEDIUM_SIZE)    # fontsize of the tick labels\n",
    "plt.rc('legend', fontsize=SMALL_SIZE)    # legend fontsize\n",
    "plt.rc('figure', titlesize=BIGGER_SIZE)  # fontsize of the figure title"
   ]
  },
  {
   "cell_type": "code",
   "execution_count": 3,
   "id": "4a1737c1",
   "metadata": {},
   "outputs": [
    {
     "data": {
      "text/plain": [
       "array([[0.79169168+0.j, 0.29169168+0.j],\n",
       "       [0.29169168+0.j, 0.20830832+0.j]])"
      ]
     },
     "execution_count": 3,
     "metadata": {},
     "output_type": "execute_result"
    }
   ],
   "source": [
    "# test\n",
    "vect1= np.array([0.0,0.0,0.9])\n",
    "vect2= np.array([0.9,0.0,0.0])\n",
    "geodesic(0.5,vect1,vect2)"
   ]
  },
  {
   "cell_type": "code",
   "execution_count": 4,
   "id": "edbec0cb",
   "metadata": {},
   "outputs": [],
   "source": [
    "# Test values\n",
    "#qsri = 1/np.sqrt(3)*np.array([1.0, 1.0, 0.9])\n",
    "#qssf = np.array([0.0, 0.9, 0.0])\n",
    "qsri = 1/np.sqrt(3)*np.array([0.7, 0.8, 0.8])\n",
    "qssf = 1/np.sqrt(3)*np.array([0.2, 0.9, 0.0])\n",
    "w0 = 5.0\n",
    "gamma_0 = 0.01\n",
    "gamma_c = 10\n",
    "Nmax = 40\n",
    "imax = 7\n",
    "deltat = 0.0030\n",
    "\n",
    "# Save initial and final states\n",
    "auxri = qsri\n",
    "auxsf = qssf"
   ]
  },
  {
   "cell_type": "code",
   "execution_count": 5,
   "id": "b59ab700",
   "metadata": {},
   "outputs": [
    {
     "name": "stdout",
     "output_type": "stream",
     "text": [
      "before while\n",
      "k 0\n",
      "0.01009627594893836\n",
      "k 1\n",
      "0.009177672313311569\n",
      "k 2\n",
      "0.008235574353826047\n",
      "k 3\n",
      "0.007281616432954663\n",
      "k 4\n",
      "0.006327731965130368\n",
      "k 5\n",
      "0.005385938427488579\n",
      "k 6\n",
      "0.004467801278907002\n",
      "k 7\n",
      "0.003582764784771264\n",
      "k 8\n",
      "0.002732447736767396\n",
      "k 9\n",
      "0.0019226273925305737\n",
      "k 10\n",
      "0.0015803093940548463\n",
      "k 11\n",
      "0.001523115786935536\n",
      "k 12\n",
      "0.0014640443685168814\n",
      "k 13\n",
      "0.0013960878280894207\n",
      "k 14\n",
      "0.0013289834343233053\n",
      "k 15\n",
      "0.0012649591721516362\n",
      "k 16\n",
      "0.0012040193753140027\n",
      "k 17\n",
      "0.001145781049322614\n",
      "k 18\n",
      "0.0010899042183091234\n",
      "k 19\n",
      "0.001036147015804012\n",
      "k 20\n",
      "0.0009843425977857923\n",
      "k 21\n",
      "0.0009343711472722394\n",
      "k 22\n",
      "0.0008861403179417637\n",
      "k 23\n",
      "0.000839573518835901\n",
      "k 24\n",
      "0.0007946033801662367\n",
      "k 25\n",
      "0.0007511682623266847\n",
      "k 26\n",
      "0.0007092104453720882\n",
      "k 27\n",
      "0.0006686752055520273\n",
      "k 28\n",
      "0.000629510340353745\n",
      "k 29\n",
      "0.0005916659100537736\n",
      "k 30\n",
      "0.0005550940788727754\n",
      "k 31\n",
      "0.000519749000152947\n",
      "k 32\n",
      "0.000485586720874176\n",
      "k 33\n",
      "0.0004525650953701721\n",
      "k 34\n",
      "0.00042064370436678544\n",
      "k 35\n",
      "0.00038978377795606534\n",
      "k 36\n",
      "0.00035994812197914783\n",
      "k 37\n",
      "0.0003311010476019227\n",
      "k 38\n",
      "0.00030320830393648635\n",
      "k 39\n",
      "0.0002762370136204506\n"
     ]
    },
    {
     "data": {
      "text/plain": [
       "[array([0.40414519, 0.46188022, 0.46188022]),\n",
       " array([0.35305522, 0.54729677, 0.40708988]),\n",
       " array([0.32489164, 0.58518751, 0.37663321]),\n",
       " array([0.29559258, 0.61965519, 0.34416402]),\n",
       " array([0.26569362, 0.65058118, 0.3096603 ]),\n",
       " array([0.23582308, 0.67787255, 0.27304614]),\n",
       " array([0.20675607, 0.70144832, 0.23417317]),\n",
       " array([0.17952425, 0.72120693, 0.19282441]),\n",
       " array([0.15563593, 0.73694718, 0.14889171]),\n",
       " array([0.13726984, 0.74775859, 0.10473419]),\n",
       " array([0.12549994, 0.74956316, 0.07691919]),\n",
       " array([0.11780816, 0.74588008, 0.06581533]),\n",
       " array([0.11260874, 0.74056164, 0.06069716]),\n",
       " array([0.10930485, 0.7347359 , 0.05739472]),\n",
       " array([0.10738833, 0.72873121, 0.05470638]),\n",
       " array([0.10645523, 0.72266095, 0.05226665]),\n",
       " array([0.10620526, 0.71656917, 0.04995972]),\n",
       " array([0.1064202 , 0.71047523, 0.04774645]),\n",
       " array([0.10694207, 0.70438913, 0.04561146]),\n",
       " array([0.10765645, 0.69831698, 0.04354683]),\n",
       " array([0.10848058, 0.69226309, 0.04154729]),\n",
       " array([0.10935505, 0.68623085, 0.03960869]),\n",
       " array([0.11023783, 0.68022302, 0.03772758]),\n",
       " array([0.11109989, 0.67424195, 0.03590095]),\n",
       " array([0.11192192, 0.66828962, 0.03412619]),\n",
       " array([0.11269178, 0.66236769, 0.03240097]),\n",
       " array([0.11340254, 0.65647757, 0.03072319]),\n",
       " array([0.11405096, 0.65062043, 0.02909095]),\n",
       " array([0.11463631, 0.64479723, 0.02750251]),\n",
       " array([0.11515949, 0.63900878, 0.02595626]),\n",
       " array([0.11562241, 0.63325575, 0.02445069]),\n",
       " array([0.11602751, 0.62753868, 0.0229844 ]),\n",
       " array([0.11637749, 0.62185806, 0.02155605]),\n",
       " array([0.1166751 , 0.61621426, 0.02016439]),\n",
       " array([0.11692304, 0.61060763, 0.01880823]),\n",
       " array([0.11712389, 0.60503845, 0.01748644]),\n",
       " array([0.11728012, 0.59950694, 0.01619793]),\n",
       " array([0.11739401, 0.59401331, 0.01494169]),\n",
       " array([0.11746776, 0.58855771, 0.01371674]),\n",
       " array([0.11750341, 0.58314027, 0.01252215])]"
      ]
     },
     "execution_count": 5,
     "metadata": {},
     "output_type": "execute_result"
    }
   ],
   "source": [
    "## testing cell\n",
    "estadoslist, tiempolists, solution, vec_lambda = control1setup3(qsri,qssf,Nmax=Nmax,deltat=deltat)\n",
    "tiempolists\n",
    "#vec_lam\n",
    "vec_lambda\n",
    "estadoslist"
   ]
  },
  {
   "cell_type": "code",
   "execution_count": 6,
   "id": "e448e188",
   "metadata": {},
   "outputs": [
    {
     "name": "stdout",
     "output_type": "stream",
     "text": [
      "Find time with fidelity\n",
      "new time: 0.018047968327896163\n",
      "Fidelity 0.9996280767710948\n",
      "New quantum state [0.11727109 0.55114972 0.00840203]\n",
      "Find time with fidelity\n",
      "new time: 0.0016597737001460106\n",
      "Fidelity 0.9996814785020094\n",
      "New quantum state [ 1.16570695e-01  5.49611327e-01 -2.75592779e-04]\n",
      "Find time with fidelity\n",
      "new time: 0.0005512211535933214\n",
      "Fidelity 0.9997035681662392\n",
      "New quantum state [0.11583265 0.54833099 0.004832  ]\n",
      "Find time with fidelity\n",
      "new time: 0.0059727674612250125\n",
      "Fidelity 0.9998633758128281\n",
      "New quantum state [0.12042672 0.5370892  0.00889553]\n",
      "Find time with fidelity\n",
      "new time: 0.00031930693308050977\n",
      "Fidelity 0.9998752930139858\n",
      "New quantum state [0.11832551 0.53759822 0.00546646]\n",
      "Find time with fidelity\n",
      "new time: 0.00040214755225599224\n",
      "Fidelity 0.999883719487303\n",
      "New quantum state [0.11693966 0.53762968 0.00233403]\n",
      "Find time with fidelity\n",
      "new time: 0.0012789775458270198\n",
      "Fidelity 0.9999056626468097\n",
      "New quantum state [0.11562314 0.53511377 0.00647526]\n"
     ]
    }
   ],
   "source": [
    "## testing cell\n",
    "\n",
    "finalestados, finaltiempotot, list_lambda_time=get_time_fidelity(estadoslist,tiempolists,solution,imax,qssf)\n",
    "###\n",
    "# take account that the bigger imax the better the fidelity. But the improvement in the fidelity \n",
    "# is very small\n",
    "\n"
   ]
  },
  {
   "cell_type": "code",
   "execution_count": 7,
   "id": "76784e00",
   "metadata": {},
   "outputs": [
    {
     "data": {
      "text/plain": [
       "0.6332557466474459"
      ]
     },
     "execution_count": 7,
     "metadata": {},
     "output_type": "execute_result"
    }
   ],
   "source": [
    "list(finalestados[30])[1]"
   ]
  },
  {
   "cell_type": "code",
   "execution_count": 8,
   "id": "3e188590",
   "metadata": {},
   "outputs": [
    {
     "data": {
      "text/plain": [
       "[3550.56786842439,\n",
       " 2946.82610890936,\n",
       " 3860.01516112416,\n",
       " 4120.04048576966,\n",
       " 6498.11418171858,\n",
       " 6779.76826883387,\n",
       " 5181.75109690169]"
      ]
     },
     "execution_count": 8,
     "metadata": {},
     "output_type": "execute_result"
    }
   ],
   "source": [
    "list_lambda_time"
   ]
  },
  {
   "cell_type": "code",
   "execution_count": 9,
   "id": "33cbc8e5",
   "metadata": {},
   "outputs": [],
   "source": [
    "# radius\n",
    "radius = [np.sqrt((finalestados[i][0])**2+(finalestados[i][1])**2+(finalestados[i][2])**2) for i in range(len(finalestados))]\n",
    "listfidelities=[fidelity(finalestados[i],qssf) for i in range(len(finalestados))]"
   ]
  },
  {
   "cell_type": "code",
   "execution_count": 10,
   "id": "f481ddf5",
   "metadata": {},
   "outputs": [],
   "source": [
    "### plots\n",
    "\n",
    "### bloch sphere\n",
    "length = 1\n",
    "nrm = mpl.colors.Normalize(0,length)\n",
    "#colors = cm.winter(nrm(range(length))) # options: cool, summer, winter, autumn etc.\n",
    "colors = cm.winter(range(length)) # options: cool, summer, winter, autumn etc.\n",
    "\n",
    "b = qutip.Bloch(view=[170,50],figsize=[3,3])\n",
    "b.sphere_alpha=0.2\n",
    "b.point_color = ['r'] # options: 'r', 'g', 'b' etc.\n",
    "b.point_marker = ['o']\n",
    "b.point_size = [20]\n",
    "for i in range(len(finalestados)):\n",
    "    b.add_points(finalestados[i])\n",
    "    \n",
    "## ploting geodesic\n",
    "Numbergeo = 250\n",
    "geolist = [geodesic(t/Numbergeo,qsri,qssf) for t in range(Numbergeo+1)]\n",
    "colors2 = cm.cool(nrm(range(length))) # options: cool, summer, winter, autumn etc.\n",
    "\n",
    "vectorgeo = [bloch_vector(rho) for rho in geolist]\n",
    "#b.point_color = ['b'] # options: 'r', 'g', 'b' etc.\n",
    "#b.point_marker = ['*']\n",
    "#b.point_size = [20]\n",
    "for i in range(len(vectorgeo)):\n",
    "    #b.point_color = list(colors2) # options: 'r', 'g', 'b' etc.\n",
    "    b.add_points(vectorgeo[i])\n",
    "\n",
    "#b.add_points(auxri)\n",
    "#b.add_points(auxsf)\n",
    "newbloch=qutip.Bloch(view=[170,50],figsize=[3,3])\n",
    "newbloch.point_color = ['b'] # options: 'r', 'g', 'b' etc.\n",
    "newbloch.point_marker = ['*']\n",
    "newbloch.point_size = [20]\n",
    "newbloch.sphere_alpha=0.01\n",
    "newbloch.frame_alpha=0.01\n",
    "#newbloch.\n",
    "for i in range(len(vectorgeo)):\n",
    "    #b.point_color = list(colors2) # options: 'r', 'g', 'b' etc.\n",
    "\n",
    "    newbloch.add_points(vectorgeo[i],'s')"
   ]
  },
  {
   "cell_type": "code",
   "execution_count": 11,
   "id": "d1dc597e",
   "metadata": {},
   "outputs": [],
   "source": [
    "#Mayavi is not working\n",
    "#b3d = qutip.Bloch3d()\n",
    "#b3d.show()\n",
    "\n"
   ]
  },
  {
   "cell_type": "code",
   "execution_count": 12,
   "id": "c6758d5b",
   "metadata": {},
   "outputs": [
    {
     "data": {
      "image/png": "[encoded data removed]",
      "text/plain": [
       "<Figure size 300x300 with 1 Axes>"
      ]
     },
     "metadata": {},
     "output_type": "display_data"
    },
    {
     "data": {
      "image/png": "[encoded data removed]",
      "text/plain": [
       "<Figure size 300x300 with 1 Axes>"
      ]
     },
     "metadata": {},
     "output_type": "display_data"
    }
   ],
   "source": [
    "#improve plots\n",
    "\n",
    "b.show()\n",
    "newbloch.show()"
   ]
  },
  {
   "cell_type": "code",
   "execution_count": 13,
   "id": "682b08cd",
   "metadata": {},
   "outputs": [
    {
     "data": {
      "image/png": "[encoded data removed]",
      "text/plain": [
       "<Figure size 700x300 with 1 Axes>"
      ]
     },
     "metadata": {},
     "output_type": "display_data"
    }
   ],
   "source": [
    "# data\n",
    "xaxis = [i for i in range(len(finalestados))]\n",
    "\n",
    "# create a figure and axes\n",
    "fig, ax = plt.subplots()\n",
    "\n",
    "# plot the data\n",
    "ax.plot(xaxis, listfidelities, '-o', color='blue')\n",
    "\n",
    "# add labels and title\n",
    "ax.set_xlabel('Number of state',fontsize=14)\n",
    "ax.set_ylabel('Fidelity',fontsize=14)\n",
    "ax.set_title('Setup 3',fontsize=15)\n",
    "plt.grid()\n",
    "fig = plt.gcf()\n",
    "fig.set_size_inches(7, 3)\n",
    "\n",
    "# show the plot\n",
    "plt.show()"
   ]
  },
  {
   "cell_type": "code",
   "execution_count": 14,
   "id": "3f6270ee",
   "metadata": {},
   "outputs": [
    {
     "data": {
      "image/png": "[encoded data removed]",
      "text/plain": [
       "<Figure size 700x300 with 1 Axes>"
      ]
     },
     "metadata": {},
     "output_type": "display_data"
    }
   ],
   "source": [
    "# create a figure and axes\n",
    "fig, ax = plt.subplots()\n",
    "\n",
    "# plot the data\n",
    "ax.plot(xaxis,radius , '-o', color='blue')\n",
    "\n",
    "# add labels and title\n",
    "ax.set_xlabel('Number of state',fontsize=14)\n",
    "ax.set_ylabel('Radius',fontsize=14)\n",
    "ax.set_title('Setup 3',fontsize=15)\n",
    "plt.grid()\n",
    "fig = plt.gcf()\n",
    "fig.set_size_inches(7, 3)\n",
    "\n",
    "# show the plot\n",
    "plt.show()"
   ]
  },
  {
   "cell_type": "code",
   "execution_count": 15,
   "id": "d7d09b2f",
   "metadata": {},
   "outputs": [
    {
     "data": {
      "image/png": "[encoded data removed]",
      "text/plain": [
       "<Figure size 700x400 with 1 Axes>"
      ]
     },
     "metadata": {},
     "output_type": "display_data"
    }
   ],
   "source": [
    "# create a figure and axes\n",
    "fig, ax = plt.subplots()\n",
    "\n",
    "# plot the data\n",
    "ax.plot(xaxis,finaltiempotot, '-o', color='blue')\n",
    "\n",
    "# add labels and title\n",
    "ax.set_xlabel('Number of state',fontsize=14)\n",
    "ax.set_ylabel('total time',fontsize=14)\n",
    "ax.set_title('Setup 3',fontsize=15)\n",
    "plt.grid()\n",
    "fig = plt.gcf()\n",
    "fig.set_size_inches(7, 4)\n",
    "\n",
    "# show the plot\n",
    "plt.show()"
   ]
  },
  {
   "cell_type": "code",
   "execution_count": 16,
   "id": "2103a2ee",
   "metadata": {},
   "outputs": [
    {
     "name": "stdout",
     "output_type": "stream",
     "text": [
      "[3550.56786842439, 2946.82610890936, 3860.01516112416, 4120.04048576966, 6498.11418171858]\n",
      "[61.2742005627058, 66.1754754389770, 72.2489523163035, 79.9079104001009, 89.7922670200548, 102.939219395469, 121.118307692969, 147.492623432852, 187.666770093428, 248.164669292313]\n"
     ]
    }
   ],
   "source": [
    "print(list_lambda_time[0:5])\n",
    "print(vec_lambda[0:10])"
   ]
  },
  {
   "cell_type": "code",
   "execution_count": 17,
   "id": "3f13033c",
   "metadata": {},
   "outputs": [
    {
     "ename": "ValueError",
     "evalue": "x and y must have same first dimension, but have shapes (47,) and (48,)",
     "output_type": "error",
     "traceback": [
      "\u001b[0;31m---------------------------------------------------------------------------\u001b[0m",
      "\u001b[0;31mValueError\u001b[0m                                Traceback (most recent call last)",
      "Cell \u001b[0;32mIn[17], line 6\u001b[0m\n\u001b[1;32m      3\u001b[0m fig, ax \u001b[38;5;241m=\u001b[39m plt\u001b[38;5;241m.\u001b[39msubplots()\n\u001b[1;32m      5\u001b[0m \u001b[38;5;66;03m# plot the data\u001b[39;00m\n\u001b[0;32m----> 6\u001b[0m ax\u001b[38;5;241m.\u001b[39mplot(xaxis, list_lambda, \u001b[38;5;124m'\u001b[39m\u001b[38;5;124m-o\u001b[39m\u001b[38;5;124m'\u001b[39m, color\u001b[38;5;241m=\u001b[39m\u001b[38;5;124m'\u001b[39m\u001b[38;5;124mblue\u001b[39m\u001b[38;5;124m'\u001b[39m,label\u001b[38;5;241m=\u001b[39m\u001b[38;5;124m\"\u001b[39m\u001b[38;5;124m$/lambda$\u001b[39m\u001b[38;5;124m\"\u001b[39m)\n\u001b[1;32m     10\u001b[0m \u001b[38;5;66;03m#####################\u001b[39;00m\n\u001b[1;32m     11\u001b[0m \n\u001b[1;32m     12\u001b[0m \u001b[38;5;66;03m# data without intermediary states\u001b[39;00m\n\u001b[0;32m   (...)\u001b[0m\n\u001b[1;32m     16\u001b[0m \n\u001b[1;32m     17\u001b[0m \u001b[38;5;66;03m# add labels and title\u001b[39;00m\n\u001b[1;32m     18\u001b[0m ax\u001b[38;5;241m.\u001b[39mset_xlabel(\u001b[38;5;124m'\u001b[39m\u001b[38;5;124mNumber of state\u001b[39m\u001b[38;5;124m'\u001b[39m,fontsize\u001b[38;5;241m=\u001b[39m\u001b[38;5;241m14\u001b[39m)\n",
      "File \u001b[0;32m~/anaconda3/envs/mycontrolenv/lib/python3.11/site-packages/matplotlib/axes/_axes.py:1721\u001b[0m, in \u001b[0;36mAxes.plot\u001b[0;34m(self, scalex, scaley, data, *args, **kwargs)\u001b[0m\n\u001b[1;32m   1478\u001b[0m \u001b[38;5;250m\u001b[39m\u001b[38;5;124;03m\"\"\"\u001b[39;00m\n\u001b[1;32m   1479\u001b[0m \u001b[38;5;124;03mPlot y versus x as lines and/or markers.\u001b[39;00m\n\u001b[1;32m   1480\u001b[0m \n\u001b[0;32m   (...)\u001b[0m\n\u001b[1;32m   1718\u001b[0m \u001b[38;5;124;03m(``'green'``) or hex strings (``'#008000'``).\u001b[39;00m\n\u001b[1;32m   1719\u001b[0m \u001b[38;5;124;03m\"\"\"\u001b[39;00m\n\u001b[1;32m   1720\u001b[0m kwargs \u001b[38;5;241m=\u001b[39m cbook\u001b[38;5;241m.\u001b[39mnormalize_kwargs(kwargs, mlines\u001b[38;5;241m.\u001b[39mLine2D)\n\u001b[0;32m-> 1721\u001b[0m lines \u001b[38;5;241m=\u001b[39m [\u001b[38;5;241m*\u001b[39m\u001b[38;5;28mself\u001b[39m\u001b[38;5;241m.\u001b[39m_get_lines(\u001b[38;5;28mself\u001b[39m, \u001b[38;5;241m*\u001b[39margs, data\u001b[38;5;241m=\u001b[39mdata, \u001b[38;5;241m*\u001b[39m\u001b[38;5;241m*\u001b[39mkwargs)]\n\u001b[1;32m   1722\u001b[0m \u001b[38;5;28;01mfor\u001b[39;00m line \u001b[38;5;129;01min\u001b[39;00m lines:\n\u001b[1;32m   1723\u001b[0m     \u001b[38;5;28mself\u001b[39m\u001b[38;5;241m.\u001b[39madd_line(line)\n",
      "File \u001b[0;32m~/anaconda3/envs/mycontrolenv/lib/python3.11/site-packages/matplotlib/axes/_base.py:303\u001b[0m, in \u001b[0;36m_process_plot_var_args.__call__\u001b[0;34m(self, axes, data, *args, **kwargs)\u001b[0m\n\u001b[1;32m    301\u001b[0m     this \u001b[38;5;241m+\u001b[39m\u001b[38;5;241m=\u001b[39m args[\u001b[38;5;241m0\u001b[39m],\n\u001b[1;32m    302\u001b[0m     args \u001b[38;5;241m=\u001b[39m args[\u001b[38;5;241m1\u001b[39m:]\n\u001b[0;32m--> 303\u001b[0m \u001b[38;5;28;01myield from\u001b[39;00m \u001b[38;5;28mself\u001b[39m\u001b[38;5;241m.\u001b[39m_plot_args(\n\u001b[1;32m    304\u001b[0m     axes, this, kwargs, ambiguous_fmt_datakey\u001b[38;5;241m=\u001b[39mambiguous_fmt_datakey)\n",
      "File \u001b[0;32m~/anaconda3/envs/mycontrolenv/lib/python3.11/site-packages/matplotlib/axes/_base.py:499\u001b[0m, in \u001b[0;36m_process_plot_var_args._plot_args\u001b[0;34m(self, axes, tup, kwargs, return_kwargs, ambiguous_fmt_datakey)\u001b[0m\n\u001b[1;32m    496\u001b[0m     axes\u001b[38;5;241m.\u001b[39myaxis\u001b[38;5;241m.\u001b[39mupdate_units(y)\n\u001b[1;32m    498\u001b[0m \u001b[38;5;28;01mif\u001b[39;00m x\u001b[38;5;241m.\u001b[39mshape[\u001b[38;5;241m0\u001b[39m] \u001b[38;5;241m!=\u001b[39m y\u001b[38;5;241m.\u001b[39mshape[\u001b[38;5;241m0\u001b[39m]:\n\u001b[0;32m--> 499\u001b[0m     \u001b[38;5;28;01mraise\u001b[39;00m \u001b[38;5;167;01mValueError\u001b[39;00m(\u001b[38;5;124mf\u001b[39m\u001b[38;5;124m\"\u001b[39m\u001b[38;5;124mx and y must have same first dimension, but \u001b[39m\u001b[38;5;124m\"\u001b[39m\n\u001b[1;32m    500\u001b[0m                      \u001b[38;5;124mf\u001b[39m\u001b[38;5;124m\"\u001b[39m\u001b[38;5;124mhave shapes \u001b[39m\u001b[38;5;132;01m{\u001b[39;00mx\u001b[38;5;241m.\u001b[39mshape\u001b[38;5;132;01m}\u001b[39;00m\u001b[38;5;124m and \u001b[39m\u001b[38;5;132;01m{\u001b[39;00my\u001b[38;5;241m.\u001b[39mshape\u001b[38;5;132;01m}\u001b[39;00m\u001b[38;5;124m\"\u001b[39m)\n\u001b[1;32m    501\u001b[0m \u001b[38;5;28;01mif\u001b[39;00m x\u001b[38;5;241m.\u001b[39mndim \u001b[38;5;241m>\u001b[39m \u001b[38;5;241m2\u001b[39m \u001b[38;5;129;01mor\u001b[39;00m y\u001b[38;5;241m.\u001b[39mndim \u001b[38;5;241m>\u001b[39m \u001b[38;5;241m2\u001b[39m:\n\u001b[1;32m    502\u001b[0m     \u001b[38;5;28;01mraise\u001b[39;00m \u001b[38;5;167;01mValueError\u001b[39;00m(\u001b[38;5;124mf\u001b[39m\u001b[38;5;124m\"\u001b[39m\u001b[38;5;124mx and y can be no greater than 2D, but have \u001b[39m\u001b[38;5;124m\"\u001b[39m\n\u001b[1;32m    503\u001b[0m                      \u001b[38;5;124mf\u001b[39m\u001b[38;5;124m\"\u001b[39m\u001b[38;5;124mshapes \u001b[39m\u001b[38;5;132;01m{\u001b[39;00mx\u001b[38;5;241m.\u001b[39mshape\u001b[38;5;132;01m}\u001b[39;00m\u001b[38;5;124m and \u001b[39m\u001b[38;5;132;01m{\u001b[39;00my\u001b[38;5;241m.\u001b[39mshape\u001b[38;5;132;01m}\u001b[39;00m\u001b[38;5;124m\"\u001b[39m)\n",
      "\u001b[0;31mValueError\u001b[0m: x and y must have same first dimension, but have shapes (47,) and (48,)"
     ]
    },
    {
     "data": {
      "image/png": "[encoded data removed]",
      "text/plain": [
       "<Figure size 640x480 with 1 Axes>"
      ]
     },
     "metadata": {},
     "output_type": "display_data"
    }
   ],
   "source": [
    "list_lambda =  vec_lambda+list_lambda_time\n",
    "# create a figure and axes\n",
    "fig, ax = plt.subplots()\n",
    "\n",
    "# plot the data\n",
    "ax.plot(xaxis, list_lambda, '-o', color='blue',label=\"$/lambda$\")\n",
    "\n",
    "\n",
    "\n",
    "#####################\n",
    "\n",
    "# data without intermediary states\n",
    "#xaxis1 = [i for i in range(len(finalestados))]\n",
    "#ax.plot(xaxis1, listfidelities, '-*', color='green',label=\"Conti\")\n",
    "#########################\n",
    "\n",
    "# add labels and title\n",
    "ax.set_xlabel('Number of state',fontsize=14)\n",
    "ax.set_ylabel('lambda',fontsize=14)\n",
    "ax.set_title('Setup 3, lambda over time',fontsize=15)\n",
    "plt.grid()\n",
    "fig = plt.gcf()\n",
    "fig.set_size_inches(7, 4)\n",
    "plt.legend(fontsize=12,loc='lower right')\n",
    "# show the plot\n",
    "plt.show()"
   ]
  },
  {
   "attachments": {},
   "cell_type": "markdown",
   "id": "22422b06",
   "metadata": {},
   "source": [
    "## Testing with intermediary states\n",
    "\n",
    "In the following cells we are going to use the geodesic that will give us some intermediary states in order to improve the control methodology"
   ]
  },
  {
   "cell_type": "code",
   "execution_count": null,
   "id": "d93c9cad",
   "metadata": {},
   "outputs": [],
   "source": []
  },
  {
   "cell_type": "code",
   "execution_count": 18,
   "id": "14c9e440",
   "metadata": {},
   "outputs": [],
   "source": [
    "# Test values\n",
    "#del(estadoslist, tiempolists, solution)\n",
    "#qsri = 1/np.sqrt(3)*np.array([1.0, 1.0, 0.9])\n",
    "#qssf = np.array([0.0, 0.9, 0.0])\n",
    "qsri = 1/np.sqrt(3)*np.array([0.7, 0.8, 0.8])\n",
    "qssf = 1/np.sqrt(3)*np.array([0.2, 0.9, 0.0])\n",
    "w0 = 5\n",
    "\n",
    "gamma_0 = 0.01\n",
    "gamma_c = 10\n",
    "Nmax = 30 ### with 20 is not working\n",
    "imax = 7\n",
    "deltat = 0.003\n",
    "\n",
    "# Save initial and final states\n",
    "auxri = qsri\n",
    "auxsf = qssf"
   ]
  },
  {
   "cell_type": "code",
   "execution_count": 19,
   "id": "37b7718d",
   "metadata": {},
   "outputs": [],
   "source": [
    "#numinter = 4 #number of intermediary states\n",
    "\n",
    "numinter = 5 #number of intermediary states\n",
    "\n",
    "#get the intermediary states from the geodesic\n",
    "intermediaryqs=[geodesic((i)/(numinter-1),qsri,qssf) for i in range(numinter)]\n",
    "intermediary = [bloch_vector(intermediaryqs[i]) for i in range(len(intermediaryqs)) ]\n",
    "k = 1.0e-6\n",
    "for i in range(numinter):\n",
    "    delete_less_than_k(intermediary[i],k)"
   ]
  },
  {
   "cell_type": "code",
   "execution_count": 20,
   "id": "6b64fcd4",
   "metadata": {},
   "outputs": [
    {
     "data": {
      "text/plain": [
       "[array([0.40414519+0.j, 0.46188022+0.j, 0.46188022+0.j]),\n",
       " array([0.34168337+0.j, 0.49297194+0.j, 0.3556096 +0.j]),\n",
       " array([0.27170149+0.j, 0.51321392+0.j, 0.24151243+0.j]),\n",
       " array([0.19573977+0.j, 0.52216066+0.j, 0.12209985+0.j]),\n",
       " array([0.11547005+0.j, 0.51961524+0.j, 0.        +0.j])]"
      ]
     },
     "execution_count": 20,
     "metadata": {},
     "output_type": "execute_result"
    }
   ],
   "source": [
    "intermediary"
   ]
  },
  {
   "cell_type": "code",
   "execution_count": null,
   "id": "f4d164f2",
   "metadata": {},
   "outputs": [],
   "source": []
  },
  {
   "cell_type": "code",
   "execution_count": 21,
   "id": "34495a21",
   "metadata": {},
   "outputs": [
    {
     "name": "stdout",
     "output_type": "stream",
     "text": [
      "before while\n",
      "k 0\n",
      "0.0020424559568428258\n",
      "k 1\n",
      "0.0006645118721610999\n",
      "k 2\n",
      "2.249341318671938e-05\n",
      "before while\n",
      "k 0\n",
      "0.002053685469913913\n",
      "k 1\n",
      "0.0007680757166573793\n",
      "k 2\n",
      "1.9914527621733846e-05\n",
      "k 3\n",
      "0.00010899802397767999\n",
      "k 4\n",
      "0.00013449821288946673\n",
      "k 5\n",
      "5.9635497188459397e-05\n",
      "k 6\n",
      "0.0001061384373907126\n",
      "k 7\n",
      "8.523406702198866e-05\n",
      "k 8\n",
      "9.452653406305522e-05\n",
      "k 9\n",
      "7.255132072536696e-05\n",
      "k 10\n",
      "0.00010660694368480605\n",
      "k 11\n",
      "6.560239877395624e-05\n",
      "k 12\n",
      "9.951326317803044e-05\n",
      "k 13\n",
      "6.592435503194327e-05\n",
      "k 14\n",
      "9.792913241091217e-05\n",
      "k 15\n",
      "6.0375482964003524e-05\n",
      "k 16\n",
      "9.835641524424954e-05\n",
      "k 17\n",
      "5.69411004479603e-05\n",
      "k 18\n",
      "9.580473718595606e-05\n",
      "k 19\n",
      "5.4268977106808336e-05\n",
      "k 20\n",
      "9.464614740206656e-05\n",
      "k 21\n",
      "5.0758319170340904e-05\n",
      "k 22\n",
      "9.353955057123109e-05\n",
      "k 23\n",
      "4.7902332445448614e-05\n",
      "k 24\n",
      "9.196920656973084e-05\n",
      "k 25\n",
      "4.519118419521462e-05\n",
      "k 26\n",
      "9.073889751587405e-05\n",
      "k 27\n",
      "4.245309460049196e-05\n",
      "k 28\n",
      "8.94719990832682e-05\n",
      "k 29\n",
      "3.996810978945664e-05\n",
      "before while\n",
      "k 0\n",
      "0.002881092007690822\n",
      "k 1\n",
      "0.0018461676134884364\n",
      "k 2\n",
      "0.0009367440577568997\n",
      "k 3\n",
      "0.000597556009711453\n",
      "k 4\n",
      "0.0006256832348852104\n",
      "k 5\n",
      "0.0005971603359926636\n",
      "k 6\n",
      "0.0005800922790785146\n",
      "k 7\n",
      "0.0005577833674852428\n",
      "k 8\n",
      "0.0005384172390981989\n",
      "k 9\n",
      "0.0005185293538660929\n",
      "k 10\n",
      "0.0004998647938150302\n",
      "k 11\n",
      "0.0004814999232271022\n",
      "k 12\n",
      "0.00046390068245738547\n",
      "k 13\n",
      "0.0004467935350033203\n",
      "k 14\n",
      "0.0004302686837526215\n",
      "k 15\n",
      "0.0004142969084698356\n",
      "k 16\n",
      "0.0003987818685415867\n",
      "k 17\n",
      "0.00038387455206434495\n",
      "k 18\n",
      "0.00036926831224515233\n",
      "k 19\n",
      "0.00035540329986238905\n",
      "k 20\n",
      "0.0003415206432898499\n",
      "k 21\n",
      "0.00032877251264062934\n",
      "k 22\n",
      "0.0003150469801986855\n",
      "k 23\n",
      "0.0003035405883685671\n",
      "k 24\n",
      "0.0002867544159054214\n",
      "k 25\n",
      "0.0002719952266034831\n",
      "k 26\n",
      "0.00022596594649848534\n",
      "k 27\n",
      "0.00016185971907245467\n",
      "k 28\n",
      "0.0001478919697250891\n",
      "k 29\n",
      "0.00014994778060328784\n",
      "before while\n",
      "k 0\n",
      "0.002470933748269233\n",
      "k 1\n",
      "0.0015481644412481677\n",
      "k 2\n",
      "0.0007544353567006112\n",
      "k 3\n",
      "0.0007043627618962267\n",
      "k 4\n",
      "0.0006543021011556904\n",
      "k 5\n",
      "0.0006150499082351324\n",
      "k 6\n",
      "0.0005771415338983177\n",
      "k 7\n",
      "0.0005410726276614541\n",
      "k 8\n",
      "0.0005061558085406315\n",
      "k 9\n",
      "0.0004724562875961791\n",
      "k 10\n",
      "0.00043986747823954175\n",
      "k 11\n",
      "0.0004083699220507331\n",
      "k 12\n",
      "0.0003779177768463704\n",
      "k 13\n",
      "0.00034847386927305823\n",
      "k 14\n",
      "0.0003200099068387807\n",
      "k 15\n",
      "0.0002924773598701469\n",
      "k 16\n",
      "0.00026587241540010353\n",
      "k 17\n",
      "0.00024010621930148357\n",
      "k 18\n",
      "0.00021527229923423707\n",
      "k 19\n",
      "0.00019101200548043984\n",
      "k 20\n",
      "0.00016791347084388342\n",
      "k 21\n",
      "0.00013949918089628532\n",
      "k 22\n",
      "5.258744368219492e-05\n"
     ]
    }
   ],
   "source": [
    "solestes =[]\n",
    "soltimes=[]\n",
    "auxtime = 0.0\n",
    "list_lambda = list([])\n",
    "for i in range(numinter-1):\n",
    "#for i in range(3):\n",
    "    #print(\"run\",i)\n",
    "    estadoslist, tiempolists, solution, lambdavec = control1setup3(qsri,intermediary[i+1],Nmax=Nmax,initime=auxtime)\n",
    "    #print(estadoslist)\n",
    "    solestes=solestes+estadoslist\n",
    "    soltimes=soltimes+tiempolists\n",
    "    qsri=estadoslist[-1]\n",
    "    #print(tiempolists[-1])\n",
    "    auxtime=tiempolists[-1]\n",
    "    list_lambda=list_lambda+lambdavec"
   ]
  },
  {
   "cell_type": "code",
   "execution_count": null,
   "id": "027f71f0",
   "metadata": {},
   "outputs": [],
   "source": [
    "list_lambda[0:10]"
   ]
  },
  {
   "attachments": {},
   "cell_type": "markdown",
   "id": "0e6581fd",
   "metadata": {},
   "source": [
    "## Using the $i_{max}$ loop and intermediary states"
   ]
  },
  {
   "cell_type": "code",
   "execution_count": null,
   "id": "5b1c1db3",
   "metadata": {},
   "outputs": [],
   "source": [
    "estadoslist=solestes ## reuse the varaible \n",
    "tiempolists = soltimes ## reuse the variable\n",
    "solestes, soltimes, vec_lambda_time=get_time_fidelity(estadoslist,tiempolists,solution,imax,qssf)\n",
    "list_lambda = list_lambda + vec_lambda_time"
   ]
  },
  {
   "cell_type": "code",
   "execution_count": null,
   "id": "80f94e6f",
   "metadata": {},
   "outputs": [],
   "source": [
    "list_lambda"
   ]
  },
  {
   "cell_type": "code",
   "execution_count": null,
   "id": "163566be",
   "metadata": {},
   "outputs": [],
   "source": [
    "### for plots using intermediary states\n",
    "\n",
    "# radius and fidelities\n",
    "radiusint = [np.sqrt((solestes[i][0])**2+(solestes[i][1])**2+(solestes[i][2])**2) for i in range(len(solestes))]\n",
    "listfidelitiesint=[fidelity(solestes[i],qssf) for i in range(len(solestes))]"
   ]
  },
  {
   "cell_type": "code",
   "execution_count": null,
   "id": "3af0c933",
   "metadata": {},
   "outputs": [],
   "source": [
    "### fidelity using intermediary states\n",
    "\n",
    "fide_inter_1 = [fidelity(solestes[i],intermediary[1]) for i in range(len(solestes))]\n",
    "fide_inter_2 = [fidelity(solestes[i],intermediary[2]) for i in range(len(solestes))]\n",
    "fide_inter_3 = [fidelity(solestes[i],intermediary[3]) for i in range(len(solestes))]"
   ]
  },
  {
   "cell_type": "code",
   "execution_count": null,
   "id": "91b4318b",
   "metadata": {},
   "outputs": [],
   "source": []
  },
  {
   "attachments": {},
   "cell_type": "markdown",
   "id": "4f92951c",
   "metadata": {},
   "source": [
    "## Plots using intermediary states and setup 3"
   ]
  },
  {
   "cell_type": "code",
   "execution_count": null,
   "id": "76d0a295",
   "metadata": {},
   "outputs": [],
   "source": [
    "### plots\n",
    "\n",
    "### bloch sphere\n",
    "length = 1\n",
    "nrm = mpl.colors.Normalize(0,length)\n",
    "#colors = cm.winter(nrm(range(length))) # options: cool, summer, winter, autumn etc.\n",
    "colors = cm.winter(range(length)) # options: cool, summer, winter, autumn etc.\n",
    "\n",
    "b = qutip.Bloch(view=[170,10],figsize=[3,3])\n",
    "b.sphere_alpha=0.2\n",
    "b.point_color = ['r'] # options: 'r', 'g', 'b' etc.\n",
    "b.point_marker = ['o']\n",
    "b.point_size = [20]\n",
    "for i in range(len(solestes)):\n",
    "    b.add_points(solestes[i])\n",
    "    \n",
    "## ploting geodesic\n",
    "Numbergeo = 250\n",
    "geolist = [geodesic(t/Numbergeo,auxri,qssf) for t in range(Numbergeo+1)]\n",
    "colors2 = cm.cool(nrm(range(length))) # options: cool, summer, winter, autumn etc.\n",
    "\n",
    "vectorgeo = [bloch_vector(rho) for rho in geolist]\n",
    "#b.point_color = ['b'] # options: 'r', 'g', 'b' etc.\n",
    "#b.point_marker = ['*']\n",
    "#b.point_size = [20]\n",
    "#for i in range(len(vectorgeo)):\n",
    "    #b.point_color = list(colors2) # options: 'r', 'g', 'b' etc.\n",
    "#    b.add_points(vectorgeo[i])\n",
    "\n",
    "#b.add_points(auxri)\n",
    "#b.add_points(auxsf)\n",
    "newbloch=qutip.Bloch(view=[170,30],figsize=[3,3])\n",
    "newbloch.point_color = ['b'] # options: 'r', 'g', 'b' etc.\n",
    "newbloch.point_marker = ['*']\n",
    "newbloch.point_size = [20]\n",
    "newbloch.sphere_alpha=0.01\n",
    "newbloch.frame_alpha=0.01\n",
    "#newbloch.\n",
    "for i in range(len(vectorgeo)):\n",
    "    #b.point_color = list(colors2) # options: 'r', 'g', 'b' etc.\n",
    "    newbloch.add_points(vectorgeo[i],'s')"
   ]
  },
  {
   "cell_type": "code",
   "execution_count": null,
   "id": "b6288723",
   "metadata": {},
   "outputs": [],
   "source": [
    "#improve plots\n",
    "b.show()\n",
    "newbloch.show()"
   ]
  },
  {
   "cell_type": "code",
   "execution_count": null,
   "id": "f515ebc2",
   "metadata": {},
   "outputs": [],
   "source": [
    "# data\n",
    "xaxis = [i for i in range(len(solestes))]\n",
    "\n",
    "# create a figure and axes\n",
    "fig, ax = plt.subplots()\n",
    "\n",
    "# plot the data\n",
    "ax.plot(xaxis, listfidelitiesint, '-o', color='blue',label=\"Inter\")\n",
    "\n",
    "#####################\n",
    "\n",
    "# data without intermediary states\n",
    "xaxis1 = [i for i in range(len(finalestados))]\n",
    "ax.plot(xaxis1, listfidelities, '-*', color='green',label=\"Conti\")\n",
    "#########################\n",
    "\n",
    "# add labels and title\n",
    "ax.set_xlabel('Number of state',fontsize=14)\n",
    "ax.set_ylabel('Fidelity',fontsize=14)\n",
    "ax.set_title('Setup 3',fontsize=15)\n",
    "plt.grid()\n",
    "fig = plt.gcf()\n",
    "fig.set_size_inches(7, 4)\n",
    "plt.legend(fontsize=12,loc='lower right')\n",
    "# show the plot\n",
    "plt.show()"
   ]
  },
  {
   "cell_type": "code",
   "execution_count": null,
   "id": "27e3614a",
   "metadata": {},
   "outputs": [],
   "source": [
    "# create a figure and axes\n",
    "fig, ax = plt.subplots()\n",
    "\n",
    "# plot the data\n",
    "ax.plot(xaxis,radiusint, '-o', color='blue',label=\"Inter\")\n",
    "ax.plot(xaxis1, radius, '-*', color='green',label=\"Conti\")\n",
    "\n",
    "# add labels and title\n",
    "ax.set_xlabel('Number of state',fontsize=14)\n",
    "ax.set_ylabel('Radius',fontsize=14)\n",
    "ax.set_title('Setup 3',fontsize=15)\n",
    "plt.grid()\n",
    "fig = plt.gcf()\n",
    "fig.set_size_inches(7, 4)\n",
    "plt.legend(fontsize=12,loc='lower left')\n",
    "# show the plot\n",
    "plt.show()"
   ]
  },
  {
   "cell_type": "code",
   "execution_count": null,
   "id": "d88daf44",
   "metadata": {},
   "outputs": [],
   "source": [
    "# create a figure and axes\n",
    "fig, ax = plt.subplots()\n",
    "\n",
    "# plot the data\n",
    "ax.plot(xaxis,soltimes, '-o', color='blue',label=\"Inter\")\n",
    "ax.plot(xaxis1,finaltiempotot, '-o', color='green',label=\"Conti\")\n",
    "\n",
    "# add labels and title\n",
    "ax.set_xlabel('Number of state',fontsize=14)\n",
    "ax.set_ylabel('total time',fontsize=14)\n",
    "ax.set_title('Setup 3',fontsize=15)\n",
    "plt.grid()\n",
    "fig = plt.gcf()\n",
    "fig.set_size_inches(7, 4)\n",
    "plt.legend(fontsize=12,loc='lower right')\n",
    "# show the plot\n",
    "plt.show()"
   ]
  },
  {
   "cell_type": "code",
   "execution_count": null,
   "id": "cd8ab651",
   "metadata": {},
   "outputs": [],
   "source": [
    "# data\n",
    "xaxis = [i for i in range(len(solestes))]\n",
    "\n",
    "# create a figure and axes\n",
    "fig, ax = plt.subplots()\n",
    "\n",
    "# plot the data\n",
    "ax.plot(xaxis, fide_inter_1, '-o', color='blue',label=\"Inter1\")\n",
    "ax.plot(xaxis, fide_inter_2, '-o', color='green',label=\"Inter2\")\n",
    "ax.plot(xaxis, fide_inter_3, '-o', color='black',label=\"Inter3\")\n",
    "\n",
    "\n",
    "#####################\n",
    "\n",
    "# data without intermediary states\n",
    "#xaxis1 = [i for i in range(len(finalestados))]\n",
    "#ax.plot(xaxis1, listfidelities, '-*', color='green',label=\"Conti\")\n",
    "#########################\n",
    "\n",
    "# add labels and title\n",
    "ax.set_xlabel('Number of state',fontsize=14)\n",
    "ax.set_ylabel('Fidelity',fontsize=14)\n",
    "ax.set_title('Setup 3, fidelity over time',fontsize=15)\n",
    "plt.grid()\n",
    "fig = plt.gcf()\n",
    "fig.set_size_inches(7, 4)\n",
    "plt.legend(fontsize=12,loc='lower right')\n",
    "# show the plot\n",
    "plt.show()"
   ]
  },
  {
   "cell_type": "code",
   "execution_count": null,
   "id": "edca76c1",
   "metadata": {},
   "outputs": [],
   "source": [
    "# data\n",
    "xaxis = [i for i in range(len(solestes))]\n",
    "\n",
    "# create a figure and axes\n",
    "fig, ax = plt.subplots()\n",
    "\n",
    "# plot the data\n",
    "ax.plot(xaxis, list_lambda, '-o', color='blue',label=\"$/lambda$\")\n",
    "\n",
    "\n",
    "\n",
    "#####################\n",
    "\n",
    "# data without intermediary states\n",
    "#xaxis1 = [i for i in range(len(finalestados))]\n",
    "#ax.plot(xaxis1, listfidelities, '-*', color='green',label=\"Conti\")\n",
    "#########################\n",
    "\n",
    "# add labels and title\n",
    "ax.set_xlabel('Number of state',fontsize=14)\n",
    "ax.set_ylabel('lambda',fontsize=14)\n",
    "ax.set_title('Setup 3, lambda over time',fontsize=15)\n",
    "plt.grid()\n",
    "fig = plt.gcf()\n",
    "fig.set_size_inches(7, 4)\n",
    "plt.legend(fontsize=12,loc='lower right')\n",
    "# show the plot\n",
    "plt.show()"
   ]
  },
  {
   "cell_type": "code",
   "execution_count": null,
   "id": "c3383372",
   "metadata": {},
   "outputs": [],
   "source": [
    "list_lambda"
   ]
  },
  {
   "cell_type": "code",
   "execution_count": null,
   "id": "b977a458",
   "metadata": {},
   "outputs": [],
   "source": []
  },
  {
   "cell_type": "code",
   "execution_count": null,
   "metadata": {},
   "outputs": [],
   "source": []
  },
  {
   "cell_type": "code",
   "execution_count": null,
   "id": "d0349d7b",
   "metadata": {},
   "outputs": [],
   "source": []
  },
  {
   "cell_type": "code",
   "execution_count": null,
   "id": "32fa926a",
   "metadata": {},
   "outputs": [],
   "source": []
  }
 ],
 "metadata": {
  "kernelspec": {
   "display_name": "Python 3 (ipykernel)",
   "language": "python",
   "name": "python3"
  },
  "language_info": {
   "codemirror_mode": {
    "name": "ipython",
    "version": 3
   },
   "file_extension": ".py",
   "mimetype": "text/x-python",
   "name": "python",
   "nbconvert_exporter": "python",
   "pygments_lexer": "ipython3",
   "version": "3.11.4"
  }
 },
 "nbformat": 4,
 "nbformat_minor": 5
}

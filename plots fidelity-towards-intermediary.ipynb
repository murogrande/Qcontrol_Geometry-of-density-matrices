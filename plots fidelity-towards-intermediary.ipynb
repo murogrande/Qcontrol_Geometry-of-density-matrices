{
 "cells": [
  {
   "attachments": {},
   "cell_type": "markdown",
   "id": "c082a7af",
   "metadata": {},
   "source": [
    "### tests :\n",
    "\n",
    "We would like to know why the algorithm calculates a lot of states near the intermediary states. \n",
    "\n",
    "Ideas: \n",
    "   - plot the fidelity towards the intermediary state. We will have 3 plots in the case where we have \n",
    "    3 intermediary states.\n",
    "    \n",
    "   - plot $\\lambda$ vs time\n",
    "\n",
    "In this notebook, we are searching a usecase for intermediary states. This mean that we would like to find a trajectory with intermediary states that follows the geodesic in a better way than a continuos trajectory\n",
    "\n",
    "## Setup 3 with Python code\n",
    "\n",
    "Without and with intermediary states.\n",
    "At the end, one will find the plots comparing both results."
   ]
  },
  {
   "cell_type": "code",
   "execution_count": null,
   "id": "e3e9e38e",
   "metadata": {},
   "outputs": [],
   "source": [
    "# libraries\n",
    "import numpy as np\n",
    "import matplotlib as mpl\n",
    "from matplotlib import cm\n",
    "#from sympy.solvers import solve\n",
    "#from sympy import Symbol\n",
    "#\n",
    "#from scipy.optimize import minimize\n",
    "#from scipy.integrate import solve_ivp\n",
    "\n",
    "import matplotlib.pyplot as plt\n",
    "from matplotlib.pyplot import figure\n",
    "\n",
    "import qutip\n",
    "\n",
    "#import mayavi\n",
    "\n",
    "from contrlWithGeodesics import geodesic\n",
    "\n",
    "from contrlWithGeodesics import fidelity\n",
    "from contrlWithGeodesics.pauli_mat_vec import *\n",
    "from contrlWithGeodesics.utils import delete_less_than_k\n",
    "from contrlWithGeodesics.controlSetup3 import control1setup3,control1setup3_int_states\n",
    "from contrlWithGeodesics.getTimeFidelity import get_time_fidelity\n",
    "#"
   ]
  },
  {
   "cell_type": "code",
   "execution_count": null,
   "id": "c7162058",
   "metadata": {},
   "outputs": [],
   "source": [
    "## this cell is to have nice plots\n",
    "SMALL_SIZE = 8\n",
    "MEDIUM_SIZE = 10\n",
    "BIGGER_SIZE = 12\n",
    "\n",
    "plt.rc('font', size=SMALL_SIZE)          # controls default text sizes\n",
    "plt.rc('axes', titlesize=MEDIUM_SIZE)     # fontsize of the axes title\n",
    "plt.rc('axes', labelsize=MEDIUM_SIZE)    # fontsize of the x and y labels\n",
    "plt.rc('xtick', labelsize=MEDIUM_SIZE)    # fontsize of the tick labels\n",
    "plt.rc('ytick', labelsize=MEDIUM_SIZE)    # fontsize of the tick labels\n",
    "plt.rc('legend', fontsize=SMALL_SIZE)    # legend fontsize\n",
    "plt.rc('figure', titlesize=BIGGER_SIZE)  # fontsize of the figure title"
   ]
  },
  {
   "cell_type": "code",
   "execution_count": null,
   "id": "4a1737c1",
   "metadata": {},
   "outputs": [],
   "source": [
    "# test\n",
    "vect1= np.array([0.0,0.0,0.9])\n",
    "vect2= np.array([0.9,0.0,0.0])\n",
    "geodesic(0.5,vect1,vect2)"
   ]
  },
  {
   "cell_type": "code",
   "execution_count": null,
   "id": "edbec0cb",
   "metadata": {},
   "outputs": [],
   "source": [
    "# Test values\n",
    "#qsri = 1/np.sqrt(3)*np.array([1.0, 1.0, 0.9])\n",
    "#qssf = np.array([0.0, 0.9, 0.0])\n",
    "qsri = 1/np.sqrt(3)*np.array([0.7, 0.8, 0.8])\n",
    "qssf = 1/np.sqrt(3)*np.array([0.2, 0.9, 0.0])\n",
    "w0 = 5.0\n",
    "gamma_0 = 0.01\n",
    "gamma_c = 10\n",
    "Nmax = 40\n",
    "imax = 7\n",
    "deltat = 0.0030\n",
    "\n",
    "# Save initial and final states\n",
    "auxri = qsri\n",
    "auxsf = qssf"
   ]
  },
  {
   "cell_type": "code",
   "execution_count": null,
   "id": "b59ab700",
   "metadata": {},
   "outputs": [],
   "source": [
    "## testing cell\n",
    "estadoslist, tiempolists, solution, vec_lambda = control1setup3(qsri,qssf,Nmax=Nmax,deltat=deltat)\n",
    "tiempolists\n",
    "#vec_lam\n",
    "vec_lambda\n",
    "estadoslist"
   ]
  },
  {
   "cell_type": "code",
   "execution_count": null,
   "id": "e448e188",
   "metadata": {},
   "outputs": [],
   "source": [
    "## testing cell\n",
    "\n",
    "finalestados, finaltiempotot, list_lambda_time=get_time_fidelity(estadoslist,tiempolists,solution,imax,qssf)\n",
    "###\n",
    "# take account that the bigger imax the better the fidelity. But the improvement in the fidelity \n",
    "# is very small\n",
    "\n"
   ]
  },
  {
   "cell_type": "code",
   "execution_count": null,
   "id": "76784e00",
   "metadata": {},
   "outputs": [],
   "source": [
    "list(finalestados[30])[1]"
   ]
  },
  {
   "cell_type": "code",
   "execution_count": null,
   "id": "3e188590",
   "metadata": {},
   "outputs": [],
   "source": [
    "list_lambda_time"
   ]
  },
  {
   "cell_type": "code",
   "execution_count": null,
   "id": "33cbc8e5",
   "metadata": {},
   "outputs": [],
   "source": [
    "# radius\n",
    "radius = [np.sqrt((finalestados[i][0])**2+(finalestados[i][1])**2+(finalestados[i][2])**2) for i in range(len(finalestados))]\n",
    "listfidelities=[fidelity(finalestados[i],qssf) for i in range(len(finalestados))]"
   ]
  },
  {
   "cell_type": "code",
   "execution_count": null,
   "id": "f481ddf5",
   "metadata": {},
   "outputs": [],
   "source": [
    "### plots\n",
    "\n",
    "### bloch sphere\n",
    "length = 1\n",
    "nrm = mpl.colors.Normalize(0,length)\n",
    "#colors = cm.winter(nrm(range(length))) # options: cool, summer, winter, autumn etc.\n",
    "colors = cm.winter(range(length)) # options: cool, summer, winter, autumn etc.\n",
    "\n",
    "b = qutip.Bloch(view=[170,50],figsize=[3,3])\n",
    "b.sphere_alpha=0.2\n",
    "b.point_color = ['r'] # options: 'r', 'g', 'b' etc.\n",
    "b.point_marker = ['o']\n",
    "b.point_size = [20]\n",
    "for i in range(len(finalestados)):\n",
    "    b.add_points(finalestados[i])\n",
    "    \n",
    "## ploting geodesic\n",
    "Numbergeo = 250\n",
    "geolist = [geodesic(t/Numbergeo,qsri,qssf) for t in range(Numbergeo+1)]\n",
    "colors2 = cm.cool(nrm(range(length))) # options: cool, summer, winter, autumn etc.\n",
    "\n",
    "vectorgeo = [bloch_vector(rho) for rho in geolist]\n",
    "#b.point_color = ['b'] # options: 'r', 'g', 'b' etc.\n",
    "#b.point_marker = ['*']\n",
    "#b.point_size = [20]\n",
    "for i in range(len(vectorgeo)):\n",
    "    #b.point_color = list(colors2) # options: 'r', 'g', 'b' etc.\n",
    "    b.add_points(vectorgeo[i])\n",
    "\n",
    "#b.add_points(auxri)\n",
    "#b.add_points(auxsf)\n",
    "newbloch=qutip.Bloch(view=[170,50],figsize=[3,3])\n",
    "newbloch.point_color = ['b'] # options: 'r', 'g', 'b' etc.\n",
    "newbloch.point_marker = ['*']\n",
    "newbloch.point_size = [20]\n",
    "newbloch.sphere_alpha=0.01\n",
    "newbloch.frame_alpha=0.01\n",
    "#newbloch.\n",
    "for i in range(len(vectorgeo)):\n",
    "    #b.point_color = list(colors2) # options: 'r', 'g', 'b' etc.\n",
    "\n",
    "    newbloch.add_points(vectorgeo[i],'s')"
   ]
  },
  {
   "cell_type": "code",
   "execution_count": 20,
   "id": "d1dc597e",
   "metadata": {},
   "outputs": [
    {
     "name": "stderr",
     "output_type": "stream",
     "text": [
      "libGL error: MESA-LOADER: failed to open iris: /usr/lib/dri/iris_dri.so: cannot open shared object file: No such file or directory (search paths /usr/lib/x86_64-linux-gnu/dri:\\$${ORIGIN}/dri:/usr/lib/dri, suffix _dri)\n",
      "libGL error: failed to load driver: iris\n",
      "libGL error: MESA-LOADER: failed to open iris: /usr/lib/dri/iris_dri.so: cannot open shared object file: No such file or directory (search paths /usr/lib/x86_64-linux-gnu/dri:\\$${ORIGIN}/dri:/usr/lib/dri, suffix _dri)\n",
      "libGL error: failed to load driver: iris\n",
      "libGL error: MESA-LOADER: failed to open swrast: /usr/lib/dri/swrast_dri.so: cannot open shared object file: No such file or directory (search paths /usr/lib/x86_64-linux-gnu/dri:\\$${ORIGIN}/dri:/usr/lib/dri, suffix _dri)\n",
      "libGL error: failed to load driver: swrast\n"
     ]
    },
    {
     "ename": "",
     "evalue": "",
     "output_type": "error",
     "traceback": [
      "\u001b[1;31mThe Kernel crashed while executing code in the the current cell or a previous cell. Please review the code in the cell(s) to identify a possible cause of the failure. Click <a href='https://aka.ms/vscodeJupyterKernelCrash'>here</a> for more info. View Jupyter <a href='command:jupyter.viewOutput'>log</a> for further details."
     ]
    }
   ],
   "source": [
    "#Mayavi is not working\n",
    "b3d = qutip.Bloch3d()\n",
    "b3d.show()\n",
    "\n"
   ]
  },
  {
   "cell_type": "code",
   "execution_count": null,
   "id": "c6758d5b",
   "metadata": {},
   "outputs": [],
   "source": [
    "#improve plots\n",
    "\n",
    "b.show()\n",
    "newbloch.show()"
   ]
  },
  {
   "cell_type": "code",
   "execution_count": null,
   "id": "682b08cd",
   "metadata": {},
   "outputs": [],
   "source": [
    "# data\n",
    "xaxis = [i for i in range(len(finalestados))]\n",
    "\n",
    "# create a figure and axes\n",
    "fig, ax = plt.subplots()\n",
    "\n",
    "# plot the data\n",
    "ax.plot(xaxis, listfidelities, '-o', color='blue')\n",
    "\n",
    "# add labels and title\n",
    "ax.set_xlabel('Number of state',fontsize=14)\n",
    "ax.set_ylabel('Fidelity',fontsize=14)\n",
    "ax.set_title('Setup 3',fontsize=15)\n",
    "plt.grid()\n",
    "fig = plt.gcf()\n",
    "fig.set_size_inches(7, 3)\n",
    "\n",
    "# show the plot\n",
    "plt.show()"
   ]
  },
  {
   "cell_type": "code",
   "execution_count": null,
   "id": "3f6270ee",
   "metadata": {},
   "outputs": [],
   "source": [
    "# create a figure and axes\n",
    "fig, ax = plt.subplots()\n",
    "\n",
    "# plot the data\n",
    "ax.plot(xaxis,radius , '-o', color='blue')\n",
    "\n",
    "# add labels and title\n",
    "ax.set_xlabel('Number of state',fontsize=14)\n",
    "ax.set_ylabel('Radius',fontsize=14)\n",
    "ax.set_title('Setup 3',fontsize=15)\n",
    "plt.grid()\n",
    "fig = plt.gcf()\n",
    "fig.set_size_inches(7, 3)\n",
    "\n",
    "# show the plot\n",
    "plt.show()"
   ]
  },
  {
   "cell_type": "code",
   "execution_count": null,
   "id": "d7d09b2f",
   "metadata": {},
   "outputs": [],
   "source": [
    "# create a figure and axes\n",
    "fig, ax = plt.subplots()\n",
    "\n",
    "# plot the data\n",
    "ax.plot(xaxis,finaltiempotot, '-o', color='blue')\n",
    "\n",
    "# add labels and title\n",
    "ax.set_xlabel('Number of state',fontsize=14)\n",
    "ax.set_ylabel('total time',fontsize=14)\n",
    "ax.set_title('Setup 3',fontsize=15)\n",
    "plt.grid()\n",
    "fig = plt.gcf()\n",
    "fig.set_size_inches(7, 4)\n",
    "\n",
    "# show the plot\n",
    "plt.show()"
   ]
  },
  {
   "cell_type": "code",
   "execution_count": null,
   "id": "2103a2ee",
   "metadata": {},
   "outputs": [],
   "source": [
    "print(list_lambda_time[0:5])\n",
    "print(vec_lambda[0:10])\n",
    "len(list_lambda_time)"
   ]
  },
  {
   "cell_type": "code",
   "execution_count": null,
   "id": "3f13033c",
   "metadata": {},
   "outputs": [],
   "source": [
    "list_lambda =  vec_lambda+list_lambda_time\n",
    "# create a figure and axes\n",
    "fig, ax = plt.subplots()\n",
    "\n",
    "# plot the data\n",
    "ax.plot(xaxis, list_lambda, '-o', color='blue',label=\"$/lambda$\")\n",
    "\n",
    "\n",
    "\n",
    "#####################\n",
    "\n",
    "# data without intermediary states\n",
    "#xaxis1 = [i for i in range(len(finalestados))]\n",
    "#ax.plot(xaxis1, listfidelities, '-*', color='green',label=\"Conti\")\n",
    "#########################\n",
    "\n",
    "# add labels and title\n",
    "ax.set_xlabel('Number of state',fontsize=14)\n",
    "ax.set_ylabel('lambda',fontsize=14)\n",
    "ax.set_title('Setup 3, lambda over time',fontsize=15)\n",
    "plt.grid()\n",
    "fig = plt.gcf()\n",
    "fig.set_size_inches(7, 4)\n",
    "plt.legend(fontsize=12,loc='lower right')\n",
    "# show the plot\n",
    "plt.show()"
   ]
  },
  {
   "attachments": {},
   "cell_type": "markdown",
   "id": "22422b06",
   "metadata": {},
   "source": [
    "## Testing with intermediary states\n",
    "\n",
    "In the following cells we are going to use the geodesic that will give us some intermediary states in order to improve the control methodology"
   ]
  },
  {
   "cell_type": "code",
   "execution_count": null,
   "id": "d93c9cad",
   "metadata": {},
   "outputs": [],
   "source": []
  },
  {
   "cell_type": "code",
   "execution_count": null,
   "id": "14c9e440",
   "metadata": {},
   "outputs": [],
   "source": [
    "# Test values\n",
    "#del(estadoslist, tiempolists, solution)\n",
    "#qsri = 1/np.sqrt(3)*np.array([1.0, 1.0, 0.9])\n",
    "#qssf = np.array([0.0, 0.9, 0.0])\n",
    "qsri = 1/np.sqrt(3)*np.array([0.7, 0.8, 0.8])\n",
    "qssf = 1/np.sqrt(3)*np.array([0.2, 0.9, 0.0])\n",
    "w0 = 5\n",
    "\n",
    "gamma_0 = 0.01\n",
    "gamma_c = 10\n",
    "Nmax = 30 ### with 20 is not working\n",
    "imax = 7\n",
    "deltat = 0.003\n",
    "\n",
    "# Save initial and final states\n",
    "auxri = qsri\n",
    "auxsf = qssf"
   ]
  },
  {
   "cell_type": "code",
   "execution_count": null,
   "id": "37b7718d",
   "metadata": {},
   "outputs": [],
   "source": [
    "#numinter = 4 #number of intermediary states\n",
    "\n",
    "numinter = 5 #number of intermediary states\n",
    "\n",
    "#get the intermediary states from the geodesic\n",
    "intermediaryqs=[geodesic((i)/(numinter-1),qsri,qssf) for i in range(numinter)]\n",
    "intermediary = [bloch_vector(intermediaryqs[i]) for i in range(len(intermediaryqs)) ]\n",
    "k = 1.0e-6\n",
    "for i in range(numinter):\n",
    "    delete_less_than_k(intermediary[i],k)"
   ]
  },
  {
   "cell_type": "code",
   "execution_count": null,
   "id": "6b64fcd4",
   "metadata": {},
   "outputs": [],
   "source": [
    "intermediary"
   ]
  },
  {
   "cell_type": "code",
   "execution_count": null,
   "id": "f4d164f2",
   "metadata": {},
   "outputs": [],
   "source": []
  },
  {
   "cell_type": "code",
   "execution_count": null,
   "id": "34495a21",
   "metadata": {},
   "outputs": [],
   "source": [
    "solestes =[]\n",
    "soltimes=[]\n",
    "auxtime = 0.0\n",
    "list_lambda = list([])\n",
    "for i in range(numinter-1):\n",
    "#for i in range(3):\n",
    "    #print(\"run\",i)\n",
    "    estadoslist, tiempolists, solution, lambdavec = control1setup3_int_states(qsri,intermediary[i+1],Nmax=Nmax,initime=auxtime)\n",
    "    #print(estadoslist)\n",
    "    solestes=solestes+estadoslist\n",
    "    soltimes=soltimes+tiempolists\n",
    "    qsri=estadoslist[-1]\n",
    "    #print(tiempolists[-1])\n",
    "    auxtime=tiempolists[-1]\n",
    "    list_lambda=list_lambda+lambdavec"
   ]
  },
  {
   "cell_type": "code",
   "execution_count": null,
   "id": "027f71f0",
   "metadata": {},
   "outputs": [],
   "source": [
    "list_lambda[0:10]"
   ]
  },
  {
   "attachments": {},
   "cell_type": "markdown",
   "id": "0e6581fd",
   "metadata": {},
   "source": [
    "## Using the $i_{max}$ loop and intermediary states"
   ]
  },
  {
   "cell_type": "code",
   "execution_count": null,
   "id": "5b1c1db3",
   "metadata": {},
   "outputs": [],
   "source": [
    "estadoslist=solestes ## reuse the varaible \n",
    "tiempolists = soltimes ## reuse the variable\n",
    "solestes, soltimes, vec_lambda_time=get_time_fidelity(estadoslist,tiempolists,solution,imax,qssf)\n",
    "list_lambda = list_lambda + vec_lambda_time"
   ]
  },
  {
   "cell_type": "code",
   "execution_count": null,
   "id": "80f94e6f",
   "metadata": {},
   "outputs": [],
   "source": [
    "list_lambda"
   ]
  },
  {
   "cell_type": "code",
   "execution_count": null,
   "id": "163566be",
   "metadata": {},
   "outputs": [],
   "source": [
    "### for plots using intermediary states\n",
    "\n",
    "# radius and fidelities\n",
    "radiusint = [np.sqrt((solestes[i][0])**2+(solestes[i][1])**2+(solestes[i][2])**2) for i in range(len(solestes))]\n",
    "listfidelitiesint=[fidelity(solestes[i],qssf) for i in range(len(solestes))]"
   ]
  },
  {
   "cell_type": "code",
   "execution_count": null,
   "id": "3af0c933",
   "metadata": {},
   "outputs": [],
   "source": [
    "### fidelity using intermediary states\n",
    "\n",
    "fide_inter_1 = [fidelity(solestes[i],intermediary[1]) for i in range(len(solestes))]\n",
    "fide_inter_2 = [fidelity(solestes[i],intermediary[2]) for i in range(len(solestes))]\n",
    "fide_inter_3 = [fidelity(solestes[i],intermediary[3]) for i in range(len(solestes))]"
   ]
  },
  {
   "cell_type": "code",
   "execution_count": null,
   "id": "91b4318b",
   "metadata": {},
   "outputs": [],
   "source": []
  },
  {
   "attachments": {},
   "cell_type": "markdown",
   "id": "4f92951c",
   "metadata": {},
   "source": [
    "## Plots using intermediary states and setup 3"
   ]
  },
  {
   "cell_type": "code",
   "execution_count": null,
   "id": "76d0a295",
   "metadata": {},
   "outputs": [],
   "source": [
    "### plots\n",
    "\n",
    "### bloch sphere\n",
    "length = 1\n",
    "nrm = mpl.colors.Normalize(0,length)\n",
    "#colors = cm.winter(nrm(range(length))) # options: cool, summer, winter, autumn etc.\n",
    "colors = cm.winter(range(length)) # options: cool, summer, winter, autumn etc.\n",
    "\n",
    "b = qutip.Bloch(view=[170,10],figsize=[3,3])\n",
    "b.sphere_alpha=0.2\n",
    "b.point_color = ['r'] # options: 'r', 'g', 'b' etc.\n",
    "b.point_marker = ['o']\n",
    "b.point_size = [20]\n",
    "for i in range(len(solestes)):\n",
    "    b.add_points(solestes[i])\n",
    "    \n",
    "## ploting geodesic\n",
    "Numbergeo = 250\n",
    "geolist = [geodesic(t/Numbergeo,auxri,qssf) for t in range(Numbergeo+1)]\n",
    "colors2 = cm.cool(nrm(range(length))) # options: cool, summer, winter, autumn etc.\n",
    "\n",
    "vectorgeo = [bloch_vector(rho) for rho in geolist]\n",
    "#b.point_color = ['b'] # options: 'r', 'g', 'b' etc.\n",
    "#b.point_marker = ['*']\n",
    "#b.point_size = [20]\n",
    "#for i in range(len(vectorgeo)):\n",
    "    #b.point_color = list(colors2) # options: 'r', 'g', 'b' etc.\n",
    "#    b.add_points(vectorgeo[i])\n",
    "\n",
    "#b.add_points(auxri)\n",
    "#b.add_points(auxsf)\n",
    "newbloch=qutip.Bloch(view=[170,30],figsize=[3,3])\n",
    "newbloch.point_color = ['b'] # options: 'r', 'g', 'b' etc.\n",
    "newbloch.point_marker = ['*']\n",
    "newbloch.point_size = [20]\n",
    "newbloch.sphere_alpha=0.01\n",
    "newbloch.frame_alpha=0.01\n",
    "#newbloch.\n",
    "for i in range(len(vectorgeo)):\n",
    "    #b.point_color = list(colors2) # options: 'r', 'g', 'b' etc.\n",
    "    newbloch.add_points(vectorgeo[i],'s')"
   ]
  },
  {
   "cell_type": "code",
   "execution_count": null,
   "id": "b6288723",
   "metadata": {},
   "outputs": [],
   "source": [
    "#improve plots\n",
    "b.show()\n",
    "newbloch.show()"
   ]
  },
  {
   "cell_type": "code",
   "execution_count": null,
   "id": "f515ebc2",
   "metadata": {},
   "outputs": [],
   "source": [
    "# data\n",
    "xaxis = [i for i in range(len(solestes))]\n",
    "\n",
    "# create a figure and axes\n",
    "fig, ax = plt.subplots()\n",
    "\n",
    "# plot the data\n",
    "ax.plot(xaxis, listfidelitiesint, '-o', color='blue',label=\"Inter\")\n",
    "\n",
    "#####################\n",
    "\n",
    "# data without intermediary states\n",
    "xaxis1 = [i for i in range(len(finalestados))]\n",
    "ax.plot(xaxis1, listfidelities, '-*', color='green',label=\"Conti\")\n",
    "#########################\n",
    "\n",
    "# add labels and title\n",
    "ax.set_xlabel('Number of state',fontsize=14)\n",
    "ax.set_ylabel('Fidelity',fontsize=14)\n",
    "ax.set_title('Setup 3',fontsize=15)\n",
    "plt.grid()\n",
    "fig = plt.gcf()\n",
    "fig.set_size_inches(7, 4)\n",
    "plt.legend(fontsize=12,loc='lower right')\n",
    "# show the plot\n",
    "plt.show()"
   ]
  },
  {
   "cell_type": "code",
   "execution_count": null,
   "id": "27e3614a",
   "metadata": {},
   "outputs": [],
   "source": [
    "# create a figure and axes\n",
    "fig, ax = plt.subplots()\n",
    "\n",
    "# plot the data\n",
    "ax.plot(xaxis,radiusint, '-o', color='blue',label=\"Inter\")\n",
    "ax.plot(xaxis1, radius, '-*', color='green',label=\"Conti\")\n",
    "\n",
    "# add labels and title\n",
    "ax.set_xlabel('Number of state',fontsize=14)\n",
    "ax.set_ylabel('Radius',fontsize=14)\n",
    "ax.set_title('Setup 3',fontsize=15)\n",
    "plt.grid()\n",
    "fig = plt.gcf()\n",
    "fig.set_size_inches(7, 4)\n",
    "plt.legend(fontsize=12,loc='lower left')\n",
    "# show the plot\n",
    "plt.show()"
   ]
  },
  {
   "cell_type": "code",
   "execution_count": null,
   "id": "d88daf44",
   "metadata": {},
   "outputs": [],
   "source": [
    "# create a figure and axes\n",
    "fig, ax = plt.subplots()\n",
    "\n",
    "# plot the data\n",
    "ax.plot(xaxis,soltimes, '-o', color='blue',label=\"Inter\")\n",
    "ax.plot(xaxis1,finaltiempotot, '-o', color='green',label=\"Conti\")\n",
    "\n",
    "# add labels and title\n",
    "ax.set_xlabel('Number of state',fontsize=14)\n",
    "ax.set_ylabel('total time',fontsize=14)\n",
    "ax.set_title('Setup 3',fontsize=15)\n",
    "plt.grid()\n",
    "fig = plt.gcf()\n",
    "fig.set_size_inches(7, 4)\n",
    "plt.legend(fontsize=12,loc='lower right')\n",
    "# show the plot\n",
    "plt.show()"
   ]
  },
  {
   "cell_type": "code",
   "execution_count": null,
   "id": "cd8ab651",
   "metadata": {},
   "outputs": [],
   "source": [
    "# data\n",
    "xaxis = [i for i in range(len(solestes))]\n",
    "\n",
    "# create a figure and axes\n",
    "fig, ax = plt.subplots()\n",
    "\n",
    "# plot the data\n",
    "ax.plot(xaxis, fide_inter_1, '-o', color='blue',label=\"Inter1\")\n",
    "ax.plot(xaxis, fide_inter_2, '-o', color='green',label=\"Inter2\")\n",
    "ax.plot(xaxis, fide_inter_3, '-o', color='black',label=\"Inter3\")\n",
    "\n",
    "\n",
    "#####################\n",
    "\n",
    "# data without intermediary states\n",
    "#xaxis1 = [i for i in range(len(finalestados))]\n",
    "#ax.plot(xaxis1, listfidelities, '-*', color='green',label=\"Conti\")\n",
    "#########################\n",
    "\n",
    "# add labels and title\n",
    "ax.set_xlabel('Number of state',fontsize=14)\n",
    "ax.set_ylabel('Fidelity',fontsize=14)\n",
    "ax.set_title('Setup 3, fidelity over time',fontsize=15)\n",
    "plt.grid()\n",
    "fig = plt.gcf()\n",
    "fig.set_size_inches(7, 4)\n",
    "plt.legend(fontsize=12,loc='lower right')\n",
    "# show the plot\n",
    "plt.show()"
   ]
  },
  {
   "cell_type": "code",
   "execution_count": null,
   "id": "edca76c1",
   "metadata": {},
   "outputs": [],
   "source": [
    "# data\n",
    "xaxis = [i for i in range(len(solestes))]\n",
    "\n",
    "# create a figure and axes\n",
    "fig, ax = plt.subplots()\n",
    "\n",
    "# plot the data\n",
    "ax.plot(xaxis, list_lambda, '-o', color='blue',label=\"$/lambda$\")\n",
    "\n",
    "\n",
    "\n",
    "#####################\n",
    "\n",
    "# data without intermediary states\n",
    "#xaxis1 = [i for i in range(len(finalestados))]\n",
    "#ax.plot(xaxis1, listfidelities, '-*', color='green',label=\"Conti\")\n",
    "#########################\n",
    "\n",
    "# add labels and title\n",
    "ax.set_xlabel('Number of state',fontsize=14)\n",
    "ax.set_ylabel('lambda',fontsize=14)\n",
    "ax.set_title('Setup 3, lambda over time',fontsize=15)\n",
    "plt.grid()\n",
    "fig = plt.gcf()\n",
    "fig.set_size_inches(7, 4)\n",
    "plt.legend(fontsize=12,loc='lower right')\n",
    "# show the plot\n",
    "plt.show()"
   ]
  },
  {
   "cell_type": "code",
   "execution_count": null,
   "id": "c3383372",
   "metadata": {},
   "outputs": [],
   "source": [
    "list_lambda"
   ]
  },
  {
   "cell_type": "code",
   "execution_count": null,
   "id": "b977a458",
   "metadata": {},
   "outputs": [],
   "source": []
  },
  {
   "cell_type": "code",
   "execution_count": null,
   "metadata": {},
   "outputs": [],
   "source": []
  },
  {
   "cell_type": "code",
   "execution_count": null,
   "id": "d0349d7b",
   "metadata": {},
   "outputs": [],
   "source": []
  },
  {
   "cell_type": "code",
   "execution_count": null,
   "id": "32fa926a",
   "metadata": {},
   "outputs": [],
   "source": []
  }
 ],
 "metadata": {
  "kernelspec": {
   "display_name": "Python 3 (ipykernel)",
   "language": "python",
   "name": "python3"
  },
  "language_info": {
   "codemirror_mode": {
    "name": "ipython",
    "version": 3
   },
   "file_extension": ".py",
   "mimetype": "text/x-python",
   "name": "python",
   "nbconvert_exporter": "python",
   "pygments_lexer": "ipython3",
   "version": "3.11.4"
  }
 },
 "nbformat": 4,
 "nbformat_minor": 5
}
